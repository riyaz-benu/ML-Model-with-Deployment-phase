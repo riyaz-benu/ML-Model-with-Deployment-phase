{
 "cells": [
  {
   "cell_type": "code",
   "execution_count": 1,
   "id": "587b4b32-fd87-4671-9b03-079084fadedb",
   "metadata": {},
   "outputs": [],
   "source": [
    "import pickle\n",
    "import numpy as np"
   ]
  },
  {
   "cell_type": "code",
   "execution_count": 2,
   "id": "dbb3e350-c2f2-49d8-ac78-a6f246a27987",
   "metadata": {},
   "outputs": [
    {
     "name": "stderr",
     "output_type": "stream",
     "text": [
      "C:\\Users\\USER\\anaconda3\\Lib\\site-packages\\sklearn\\base.py:493: UserWarning: X does not have valid feature names, but StandardScaler was fitted with feature names\n",
      "  warnings.warn(\n"
     ]
    },
    {
     "data": {
      "text/plain": [
       "array([39488.60026612])"
      ]
     },
     "execution_count": 2,
     "metadata": {},
     "output_type": "execute_result"
    }
   ],
   "source": [
    "with open('sc.pkl', 'rb') as f:\n",
    "    sc = pickle.load(f)\n",
    "\n",
    "with open('regressor.pkl', 'rb') as f:\n",
    "    regressor = pickle.load(f)\n",
    "\n",
    "preinput = sc.transform([[1289,3455, 7652,0,1]])\n",
    "\n",
    "# Predict with the loaded model\n",
    "predictions = regressor.predict(preinput)\n",
    "\n",
    "predictions"
   ]
  },
  {
   "cell_type": "code",
   "execution_count": null,
   "id": "776a87a3-45b7-4bbe-ad4f-f3c781999670",
   "metadata": {},
   "outputs": [],
   "source": []
  }
 ],
 "metadata": {
  "kernelspec": {
   "display_name": "Python 3 (ipykernel)",
   "language": "python",
   "name": "python3"
  },
  "language_info": {
   "codemirror_mode": {
    "name": "ipython",
    "version": 3
   },
   "file_extension": ".py",
   "mimetype": "text/x-python",
   "name": "python",
   "nbconvert_exporter": "python",
   "pygments_lexer": "ipython3",
   "version": "3.12.4"
  }
 },
 "nbformat": 4,
 "nbformat_minor": 5
}
