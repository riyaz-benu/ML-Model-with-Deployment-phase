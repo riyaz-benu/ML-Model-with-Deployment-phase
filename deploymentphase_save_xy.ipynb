{
 "cells": [
  {
   "cell_type": "code",
   "execution_count": 1,
   "id": "07a532d7-446a-4b1b-9f5f-06de9b08d924",
   "metadata": {},
   "outputs": [],
   "source": [
    "import pickle\n",
    "import numpy as np"
   ]
  },
  {
   "cell_type": "code",
   "execution_count": 2,
   "id": "502e0384-4cd7-4de5-bcfd-094656cb470e",
   "metadata": {},
   "outputs": [
    {
     "name": "stderr",
     "output_type": "stream",
     "text": [
      "C:\\Users\\USER\\anaconda3\\Lib\\site-packages\\sklearn\\base.py:493: UserWarning: X does not have valid feature names, but StandardScaler was fitted with feature names\n",
      "  warnings.warn(\n"
     ]
    },
    {
     "data": {
      "text/plain": [
       "array([-1.49298671])"
      ]
     },
     "execution_count": 2,
     "metadata": {},
     "output_type": "execute_result"
    }
   ],
   "source": [
    "with open('sc_x.pkl', 'rb') as f:\n",
    "    sc_x = pickle.load(f)\n",
    "with open('sc_y.pkl', 'rb') as f:\n",
    "    sc_y = pickle.load(f)\n",
    "             \n",
    "with open('regressor_xy.pkl', 'rb') as f:\n",
    "    regressor_xy = pickle.load(f)\n",
    "\n",
    "preinput = sc_x.transform([[1289,3455, 7652,0,1]])\n",
    "\n",
    "# Predict with the loaded model\n",
    "predictions = regressor_xy.predict(preinput)\n",
    "\n",
    "predictions"
   ]
  },
  {
   "cell_type": "code",
   "execution_count": 3,
   "id": "41b5f4ce-356a-4b2b-9a77-87195d08b286",
   "metadata": {},
   "outputs": [
    {
     "data": {
      "text/plain": [
       "array([[46007.83860059]])"
      ]
     },
     "execution_count": 3,
     "metadata": {},
     "output_type": "execute_result"
    }
   ],
   "source": [
    "preoutput=sc_y.inverse_transform([predictions])\n",
    "preoutput"
   ]
  },
  {
   "cell_type": "code",
   "execution_count": null,
   "id": "ee864bb1-b283-4750-bb61-103e791ad725",
   "metadata": {},
   "outputs": [],
   "source": []
  }
 ],
 "metadata": {
  "kernelspec": {
   "display_name": "Python 3 (ipykernel)",
   "language": "python",
   "name": "python3"
  },
  "language_info": {
   "codemirror_mode": {
    "name": "ipython",
    "version": 3
   },
   "file_extension": ".py",
   "mimetype": "text/x-python",
   "name": "python",
   "nbconvert_exporter": "python",
   "pygments_lexer": "ipython3",
   "version": "3.12.4"
  }
 },
 "nbformat": 4,
 "nbformat_minor": 5
}
